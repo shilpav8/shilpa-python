{
 "cells": [
  {
   "cell_type": "code",
   "execution_count": 1,
   "id": "fb83b3fb",
   "metadata": {},
   "outputs": [
    {
     "name": "stdout",
     "output_type": "stream",
     "text": [
      "Hello World\n"
     ]
    }
   ],
   "source": [
    "print(\"Hello World\")"
   ]
  },
  {
   "cell_type": "code",
   "execution_count": null,
   "id": "cf6f06f4",
   "metadata": {},
   "outputs": [
    {
     "name": "stdout",
     "output_type": "stream",
     "text": [
      "4\n",
      "add = 7\n",
      "sub = 1\n",
      "mul = 12\n",
      "div = 1.3333333333333333\n",
      "div1 = 1\n",
      "perc= 1\n",
      "perc= 64\n",
      "perc= 7\n"
     ]
    }
   ],
   "source": [
    "print(4)\n",
    "print(\"add =\",4+3) # addition\n",
    "print(\"sub =\",4-3) # subtraction\n",
    "print(\"mul =\",4*3) # multiplication\n",
    "print(\"div =\",4/3) # division including decimal\n",
    "print(\"div1 =\",4//3) # division excluding decimal\n",
    "print(\"perc=\",4%3) # reminder excluding decimal\n",
    "print(\"power=\",4**3) # Power\n",
    "print(\"perc=\",4^3)\n",
    "\n"
   ]
  },
  {
   "cell_type": "code",
   "execution_count": null,
   "id": "0ea6ac7f",
   "metadata": {},
   "outputs": [
    {
     "name": "stdout",
     "output_type": "stream",
     "text": [
      "10\n",
      "shilpa\n",
      "2.3\n",
      "[1, 2, 3]\n",
      "(1, 2, 3)\n",
      "{'Name': 'shilpa', 'Height': '5.3'}\n",
      "<class 'int'>\n",
      "<class 'str'>\n",
      "<class 'float'>\n",
      "<class 'list'>\n",
      "<class 'tuple'>\n",
      "<class 'set'>\n",
      "<class 'dict'>\n"
     ]
    }
   ],
   "source": [
    "# Data Types\n",
    "x = 10\n",
    "y = \"shilpa\"\n",
    "z = 2.3\n",
    "L1 =[1,2,3]\n",
    "L2 =(1,2,3)\n",
    "L3 ={1,2,3}\n",
    "L4 = {\"Name\":\"shilpa\", \"Height\":\"5.3\"}\n",
    "print(x)\n",
    "print(y)\n",
    "print(z)\n",
    "print(L1)\n",
    "print(L2)\n",
    "#print(L3)\n",
    "print(L4)\n",
    "print(type(x))\n",
    "print(type(y))\n",
    "print(type(z))\n",
    "print(type(L1))\n",
    "print(type(L2))\n",
    "print(type(L3))\n",
    "print(type(L4))\n"
   ]
  },
  {
   "cell_type": "code",
   "execution_count": 16,
   "id": "8a777ab0",
   "metadata": {},
   "outputs": [
    {
     "name": "stdout",
     "output_type": "stream",
     "text": [
      "10 <class 'int'>\n",
      "shilpa <class 'str'>\n",
      "2.3 <class 'float'>\n",
      "[1, 2, 3] <class 'list'>\n",
      "(1, 2, 3) <class 'tuple'>\n",
      "{1, 2, 3} <class 'set'>\n",
      "{'Name': 'shilpa', 'Height': '5.3'} <class 'dict'>\n"
     ]
    }
   ],
   "source": [
    "# Data Types\n",
    "x = 10\n",
    "y = \"shilpa\"\n",
    "z = 2.3\n",
    "L1 =[1,2,3]\n",
    "L2 =(1,2,3)\n",
    "L3 ={1,2,3}\n",
    "L4 = {\"Name\":\"shilpa\", \"Height\":\"5.3\"}\n",
    "print(x,type(x))\n",
    "print(y,type(y))\n",
    "print(z,type(z))\n",
    "print(L1,type(L1))\n",
    "print(L2,type(L2))\n",
    "print(L3,type(L3))\n",
    "print(L4,type(L4))\n"
   ]
  },
  {
   "cell_type": "code",
   "execution_count": null,
   "id": "29ca191f",
   "metadata": {},
   "outputs": [
    {
     "name": "stdout",
     "output_type": "stream",
     "text": [
      "addition = 30\n",
      "subtraction = -10\n",
      "multiplication = 200\n",
      "division including decimal = 0.5\n",
      "division excluding decimal = 0\n",
      "percentage as reminder excluding decimal= 10\n",
      "power= 100000000000000000000\n",
      "perc= 30\n"
     ]
    }
   ],
   "source": [
    "# Operators\n",
    "x=10\n",
    "y=20\n",
    "print(\"addition =\",x+y) # addition\n",
    "print(\"subtraction =\",x-y) # subtraction\n",
    "print(\"multiplication =\",x*y) # multiplication\n",
    "print(\"division including decimal =\",x/y) # division including decimal\n",
    "print(\"division excluding decimal =\",x//y) # division excluding decimal\n",
    "print(\"percentage as reminder excluding decimal=\",x%y) # reminder excluding decimal\n",
    "print(\"power=\",x**y) # Power\n",
    "print(\"perc=\",x^y) "
   ]
  },
  {
   "cell_type": "code",
   "execution_count": 48,
   "id": "7117f44c",
   "metadata": {},
   "outputs": [
    {
     "name": "stdout",
     "output_type": "stream",
     "text": [
      "string x = shilpa\n",
      "Length of string is 6\n",
      "6\n",
      "index of h letter from string x 1\n",
      "index starts with zero, so index for s is 0\n",
      "index from right side with -1, so index for a is  5\n",
      "index slicing  is start and stop(will be one less) il\n"
     ]
    }
   ],
   "source": [
    "# index and slicing\n",
    "x = \"shilpa\"\n",
    "print(\"string x =\",x)\n",
    "print(\"Length of string is\" , len(x))\n",
    "print(len(x))\n",
    "print (\"index of h letter from string x\", x.index(\"h\"))\n",
    "print (\"index starts with zero, so index for s is\", x.index(\"s\"))\n",
    "print (\"index from right side with -1, so index for a is \", x.index(\"a\"))\n",
    "print (\"index slicing  is start and stop(will be one less)\", x[2:4])\n"
   ]
  },
  {
   "cell_type": "code",
   "execution_count": 49,
   "id": "324ee65c",
   "metadata": {},
   "outputs": [
    {
     "name": "stdout",
     "output_type": "stream",
     "text": [
      "Character: s  Index: 0\n",
      "Character: h  Index: 1\n",
      "Character: i  Index: 2\n",
      "Character: l  Index: 3\n",
      "Character: p  Index: 4\n",
      "Character: a  Index: 5\n"
     ]
    }
   ],
   "source": [
    "for i in range(len(x)):\n",
    "    print(\"Character:\", x[i], \" Index:\", i)"
   ]
  }
 ],
 "metadata": {
  "kernelspec": {
   "display_name": "Python 3",
   "language": "python",
   "name": "python3"
  },
  "language_info": {
   "codemirror_mode": {
    "name": "ipython",
    "version": 3
   },
   "file_extension": ".py",
   "mimetype": "text/x-python",
   "name": "python",
   "nbconvert_exporter": "python",
   "pygments_lexer": "ipython3",
   "version": "3.13.3"
  }
 },
 "nbformat": 4,
 "nbformat_minor": 5
}
