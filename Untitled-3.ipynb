{
 "cells": [
  {
   "cell_type": "code",
   "execution_count": 1,
   "id": "a3ebcf83",
   "metadata": {},
   "outputs": [
    {
     "name": "stdout",
     "output_type": "stream",
     "text": [
      "Collecting pandas\n",
      "  Downloading pandas-2.3.1.tar.gz (4.5 MB)\n",
      "     ---------------------------------------- 0.0/4.5 MB ? eta -:--:--\n",
      "     -- ------------------------------------- 0.3/4.5 MB ? eta -:--:--\n",
      "     --------- ------------------------------ 1.0/4.5 MB 2.7 MB/s eta 0:00:02\n",
      "     -------------- ------------------------- 1.6/4.5 MB 2.9 MB/s eta 0:00:02\n",
      "     --------------------- ------------------ 2.4/4.5 MB 3.1 MB/s eta 0:00:01\n",
      "     ------------------------------ --------- 3.4/4.5 MB 3.5 MB/s eta 0:00:01\n",
      "     ---------------------------------------  4.5/4.5 MB 3.7 MB/s eta 0:00:01\n",
      "     ---------------------------------------- 4.5/4.5 MB 3.7 MB/s eta 0:00:00\n",
      "  Installing build dependencies: started\n",
      "  Installing build dependencies: finished with status 'done'\n",
      "  Getting requirements to build wheel: started\n",
      "  Getting requirements to build wheel: finished with status 'done'\n",
      "  Installing backend dependencies: started\n",
      "  Installing backend dependencies: finished with status 'done'\n",
      "  Preparing metadata (pyproject.toml): started\n",
      "  Preparing metadata (pyproject.toml): finished with status 'error'\n",
      "Note: you may need to restart the kernel to use updated packages.\n"
     ]
    },
    {
     "name": "stderr",
     "output_type": "stream",
     "text": [
      "  error: subprocess-exited-with-error\n",
      "  \n",
      "  × Preparing metadata (pyproject.toml) did not run successfully.\n",
      "  │ exit code: 1\n",
      "  ╰─> [10 lines of output]\n",
      "      + meson setup C:\\Users\\shilc\\AppData\\Local\\Temp\\pip-install-q4fiz9l7\\pandas_d1e6a0f06fcf4348b0c07ae2732d128a C:\\Users\\shilc\\AppData\\Local\\Temp\\pip-install-q4fiz9l7\\pandas_d1e6a0f06fcf4348b0c07ae2732d128a\\.mesonpy-78jeb685 -Dbuildtype=release -Db_ndebug=if-release -Db_vscrt=md --vsenv --native-file=C:\\Users\\shilc\\AppData\\Local\\Temp\\pip-install-q4fiz9l7\\pandas_d1e6a0f06fcf4348b0c07ae2732d128a\\.mesonpy-78jeb685\\meson-python-native-file.ini\n",
      "      The Meson build system\n",
      "      Version: 1.8.3\n",
      "      Source dir: C:\\Users\\shilc\\AppData\\Local\\Temp\\pip-install-q4fiz9l7\\pandas_d1e6a0f06fcf4348b0c07ae2732d128a\n",
      "      Build dir: C:\\Users\\shilc\\AppData\\Local\\Temp\\pip-install-q4fiz9l7\\pandas_d1e6a0f06fcf4348b0c07ae2732d128a\\.mesonpy-78jeb685\n",
      "      Build type: native build\n",
      "      \n",
      "      ..\\meson.build:2:0: ERROR: Could not find C:\\Program Files (x86)\\Microsoft Visual Studio\\Installer\\vswhere.exe\n",
      "      \n",
      "      A full log can be found at C:\\Users\\shilc\\AppData\\Local\\Temp\\pip-install-q4fiz9l7\\pandas_d1e6a0f06fcf4348b0c07ae2732d128a\\.mesonpy-78jeb685\\meson-logs\\meson-log.txt\n",
      "      [end of output]\n",
      "  \n",
      "  note: This error originates from a subprocess, and is likely not a problem with pip.\n",
      "\n",
      "[notice] A new release of pip is available: 25.0.1 -> 25.2\n",
      "[notice] To update, run: python.exe -m pip install --upgrade pip\n",
      "error: metadata-generation-failed\n",
      "\n",
      "× Encountered error while generating package metadata.\n",
      "╰─> See above for output.\n",
      "\n",
      "note: This is an issue with the package mentioned above, not pip.\n",
      "hint: See above for details.\n"
     ]
    }
   ],
   "source": [
    "pip install pandas"
   ]
  },
  {
   "cell_type": "code",
   "execution_count": null,
   "id": "0d779499",
   "metadata": {},
   "outputs": [
    {
     "ename": "SyntaxError",
     "evalue": "(unicode error) 'unicodeescape' codec can't decode bytes in position 2-3: truncated \\UXXXXXXXX escape (2318293744.py, line 2)",
     "output_type": "error",
     "traceback": [
      "  \u001b[36mCell\u001b[39m\u001b[36m \u001b[39m\u001b[32mIn[2]\u001b[39m\u001b[32m, line 2\u001b[39m\n\u001b[31m    \u001b[39m\u001b[31mecom_data = pd.read_json(\"C:\\Users\\shilc\\Downloads\\ecom_data.json\")\u001b[39m\n                             ^\n\u001b[31mSyntaxError\u001b[39m\u001b[31m:\u001b[39m (unicode error) 'unicodeescape' codec can't decode bytes in position 2-3: truncated \\UXXXXXXXX escape\n"
     ]
    },
    {
     "ename": "",
     "evalue": "",
     "output_type": "error",
     "traceback": [
      "\u001b[1;31mThe Kernel crashed while executing code in the current cell or a previous cell. \n",
      "\u001b[1;31mPlease review the code in the cell(s) to identify a possible cause of the failure. \n",
      "\u001b[1;31mClick <a href='https://aka.ms/vscodeJupyterKernelCrash'>here</a> for more info. \n",
      "\u001b[1;31mView Jupyter <a href='command:jupyter.viewOutput'>log</a> for further details."
     ]
    }
   ],
   "source": [
    "import pandas as pd\n",
    "ecom_data = pd.read_json(\"C:\\Users\\shilc\\Downloads\\ecom_data.json\")\n",
    "print(ecom_data)"
   ]
  }
 ],
 "metadata": {
  "kernelspec": {
   "display_name": "Python 3",
   "language": "python",
   "name": "python3"
  },
  "language_info": {
   "codemirror_mode": {
    "name": "ipython",
    "version": 3
   },
   "file_extension": ".py",
   "mimetype": "text/x-python",
   "name": "python",
   "nbconvert_exporter": "python",
   "pygments_lexer": "ipython3",
   "version": "3.14.0a7"
  }
 },
 "nbformat": 4,
 "nbformat_minor": 5
}
