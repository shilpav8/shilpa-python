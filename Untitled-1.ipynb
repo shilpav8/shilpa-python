{
 "cells": [
  {
   "cell_type": "code",
   "execution_count": 16,
   "id": "1156bd4b",
   "metadata": {},
   "outputs": [],
   "source": [
    "def sum(a,b):\n",
    "    sum = a+b\n",
    "    print(\"sum is\",sum)\n",
    "    \n",
    "    "
   ]
  },
  {
   "cell_type": "code",
   "execution_count": 17,
   "id": "589b23a3",
   "metadata": {},
   "outputs": [
    {
     "name": "stdout",
     "output_type": "stream",
     "text": [
      "sum is 6\n"
     ]
    }
   ],
   "source": [
    "sum(3,3)"
   ]
  },
  {
   "cell_type": "code",
   "execution_count": 22,
   "id": "45e57f8b",
   "metadata": {},
   "outputs": [
    {
     "name": "stdout",
     "output_type": "stream",
     "text": [
      "add is 7\n",
      "sub is -1\n",
      "mul is 12\n",
      "power is 81\n",
      "percentage is 10\n",
      "logic is x+y+2 9\n"
     ]
    }
   ],
   "source": [
    "add = lambda x,y : x+y\n",
    "print (\"add is\",add(3,4))\n",
    "\n",
    "sub = lambda x,y : x-y\n",
    "print (\"sub is\",sub(3,4))\n",
    "\n",
    "mul = lambda x,y : x*y\n",
    "print (\"mul is\",mul(3,4))\n",
    "\n",
    "power = lambda x,y : x**y\n",
    "print (\"power is\",power(3,4))\n",
    "\n",
    "percent = lambda x,y : x%y\n",
    "print (\"percentage is\",percent(10,100))\n",
    "\n",
    "logic = lambda x,y : x+y+2\n",
    "print (\"logic is x+y+2\",logic(3,4))\n",
    " "
   ]
  },
  {
   "cell_type": "code",
   "execution_count": 87,
   "id": "e385e450",
   "metadata": {},
   "outputs": [
    {
     "name": "stdout",
     "output_type": "stream",
     "text": [
      "4\n",
      "0\n",
      "4\n",
      "4\n"
     ]
    },
    {
     "data": {
      "text/plain": [
       "'print (next(gen))\\nprint (next(gen))\\nprint (next(gen))\\nprint (next(gen))'"
      ]
     },
     "execution_count": 87,
     "metadata": {},
     "output_type": "execute_result"
    }
   ],
   "source": [
    "def generator(x):\n",
    "\n",
    "    yield x+2\n",
    "    yield x-2\n",
    "    yield x*2\n",
    "    yield x**2\n",
    "\n",
    "gen = generator(2)\n",
    "for value in gen:\n",
    "    print(value)\n",
    "gen.close\n",
    "\"\"\"print (next(gen))\n",
    "print (next(gen))\n",
    "print (next(gen))\n",
    "print (next(gen))\"\"\"\n",
    "\n"
   ]
  },
  {
   "cell_type": "code",
   "execution_count": 57,
   "id": "e767491d",
   "metadata": {},
   "outputs": [
    {
     "name": "stdout",
     "output_type": "stream",
     "text": [
      "Addition is 9\n"
     ]
    }
   ],
   "source": [
    "def add(a,b):\n",
    "    sum = a+b\n",
    "    return sum\n",
    "\n",
    "Addition = add(4,5)\n",
    "print(\"Addition is\",Addition)   "
   ]
  },
  {
   "cell_type": "code",
   "execution_count": 58,
   "id": "3c050a80",
   "metadata": {},
   "outputs": [
    {
     "name": "stdout",
     "output_type": "stream",
     "text": [
      "Addition is 9\n"
     ]
    }
   ],
   "source": [
    "def add(a:int,b:int)-> int:\n",
    "    sum = a+b\n",
    "    return sum\n",
    "\n",
    "Addition = add(4,5)\n",
    "print(\"Addition is\",Addition)  "
   ]
  },
  {
   "cell_type": "code",
   "execution_count": 94,
   "id": "a36899ee",
   "metadata": {},
   "outputs": [
    {
     "name": "stdout",
     "output_type": "stream",
     "text": [
      "rrr\n",
      "4\n"
     ]
    }
   ],
   "source": [
    "class add:\n",
    "  def __init__(self,name,age):\n",
    "   self.name = name\n",
    "   self.age = age\n",
    "\n",
    "p1 = add(\"rrr\",4)\n",
    "print(p1.name)\n",
    "print(p1.age)"
   ]
  },
  {
   "cell_type": "code",
   "execution_count": null,
   "id": "f51bcf95",
   "metadata": {},
   "outputs": [
    {
     "name": "stdout",
     "output_type": "stream",
     "text": [
      "first_name\n",
      "dec\n",
      "last_name\n"
     ]
    },
    {
     "ename": "",
     "evalue": "",
     "output_type": "error",
     "traceback": [
      "\u001b[1;31mThe Kernel crashed while executing code in the current cell or a previous cell. \n",
      "\u001b[1;31mPlease review the code in the cell(s) to identify a possible cause of the failure. \n",
      "\u001b[1;31mClick <a href='https://aka.ms/vscodeJupyterKernelCrash'>here</a> for more info. \n",
      "\u001b[1;31mView Jupyter <a href='command:jupyter.viewOutput'>log</a> for further details."
     ]
    }
   ],
   "source": [
    "def decorator(middle_name):\n",
    "    def wrapper():\n",
    "      print (\"first_name\")\n",
    "      middle_name()\n",
    "      print(\"last_name\")\n",
    "    return wrapper\n",
    "\n",
    "@decorator\n",
    "def say_middle_name():\n",
    "    print(\"dec\")\n",
    "\n",
    "say_middle_name()"
   ]
  },
  {
   "cell_type": "code",
   "execution_count": 7,
   "id": "b7c1073d",
   "metadata": {},
   "outputs": [
    {
     "name": "stdout",
     "output_type": "stream",
     "text": [
      "Requirement already satisfied: numpy in c:\\users\\shilc\\appdata\\local\\programs\\python\\python314\\lib\\site-packages (2.3.2)\n",
      "Note: you may need to restart the kernel to use updated packages.\n"
     ]
    },
    {
     "name": "stderr",
     "output_type": "stream",
     "text": [
      "\n",
      "[notice] A new release of pip is available: 25.0.1 -> 25.2\n",
      "[notice] To update, run: python.exe -m pip install --upgrade pip\n"
     ]
    }
   ],
   "source": [
    "pip install numpy"
   ]
  },
  {
   "cell_type": "code",
   "execution_count": 11,
   "id": "d2d4b35c",
   "metadata": {},
   "outputs": [
    {
     "ename": "TypeError",
     "evalue": "'builtin_function_or_method' object is not subscriptable",
     "output_type": "error",
     "traceback": [
      "\u001b[31m---------------------------------------------------------------------------\u001b[39m",
      "\u001b[31mTypeError\u001b[39m                                 Traceback (most recent call last)",
      "\u001b[36mCell\u001b[39m\u001b[36m \u001b[39m\u001b[32mIn[11]\u001b[39m\u001b[32m, line 2\u001b[39m\n\u001b[32m      1\u001b[39m \u001b[38;5;28;01mimport\u001b[39;00m\u001b[38;5;250m \u001b[39m\u001b[34;01mnumpy\u001b[39;00m\n\u001b[32m----> \u001b[39m\u001b[32m2\u001b[39m arr = numpy.array[\u001b[32m1\u001b[39m,\u001b[32m2\u001b[39m,\u001b[32m3\u001b[39m,\u001b[32m4\u001b[39m,\u001b[32m5\u001b[39m,\u001b[32m6\u001b[39m]\n\u001b[32m      3\u001b[39m \u001b[38;5;28mprint\u001b[39m(arr)\n",
      "\u001b[31mTypeError\u001b[39m: 'builtin_function_or_method' object is not subscriptable"
     ]
    }
   ],
   "source": [
    "\n",
    "import numpy\n",
    "arr = numpy.array[1,2,3,4,5,6]\n",
    "print(arr)"
   ]
  }
 ],
 "metadata": {
  "kernelspec": {
   "display_name": "Python 3",
   "language": "python",
   "name": "python3"
  },
  "language_info": {
   "codemirror_mode": {
    "name": "ipython",
    "version": 3
   },
   "file_extension": ".py",
   "mimetype": "text/x-python",
   "name": "python",
   "nbconvert_exporter": "python",
   "pygments_lexer": "ipython3",
   "version": "3.14.0"
  }
 },
 "nbformat": 4,
 "nbformat_minor": 5
}
