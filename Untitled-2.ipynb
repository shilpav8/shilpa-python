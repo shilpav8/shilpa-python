{
 "cells": [
  {
   "cell_type": "code",
   "execution_count": 26,
   "id": "650cdff7",
   "metadata": {},
   "outputs": [
    {
     "name": "stdout",
     "output_type": "stream",
     "text": [
      "value 10\n"
     ]
    }
   ],
   "source": [
    "class parent:\n",
    " def __init__(self) :\n",
    "     self.value = 10\n",
    "\n",
    " def display(self):\n",
    "     print(\"value\",(self.value))\n",
    "   \n",
    "class child(parent):  \n",
    "   pass\n",
    "\n",
    "child_instance = child()\n",
    "child_instance.display()\n",
    "\n"
   ]
  },
  {
   "cell_type": "code",
   "execution_count": null,
   "id": "9169e16f",
   "metadata": {},
   "outputs": [
    {
     "name": "stdout",
     "output_type": "stream",
     "text": [
      "person name and age is ('Raj', 36)\n",
      "person name and age is ('Tom', 45)\n",
      "person name and age is ('Gopi', 23)\n",
      "person name and age is ('Kim', 35)\n"
     ]
    },
    {
     "ename": "",
     "evalue": "",
     "output_type": "error",
     "traceback": [
      "\u001b[1;31mThe Kernel crashed while executing code in the current cell or a previous cell. \n",
      "\u001b[1;31mPlease review the code in the cell(s) to identify a possible cause of the failure. \n",
      "\u001b[1;31mClick <a href='https://aka.ms/vscodeJupyterKernelCrash'>here</a> for more info. \n",
      "\u001b[1;31mView Jupyter <a href='command:jupyter.viewOutput'>log</a> for further details."
     ]
    }
   ],
   "source": [
    "class parent:\n",
    "    def __init__(self,name,age):\n",
    "        self.name = name\n",
    "        self.age = age\n",
    "    \n",
    "    def display (self):\n",
    "      print(\"person name and age is\",(self.name,self.age))\n",
    "     \n",
    "class child(parent):  \n",
    "   pass\n",
    "\n",
    "child_instance = child(\"Raj\",36)\n",
    "child_instance1 = child(\"Tom\",45)\n",
    "child_instance2 = child(\"Gopi\",23)\n",
    "child_instance3 = child(\"Kim\",35)\n",
    "child_instance.display()\n",
    "child_instance1.display()\n",
    "child_instance2.display()\n",
    "child_instance3.display()"
   ]
  }
 ],
 "metadata": {
  "kernelspec": {
   "display_name": "Python 3",
   "language": "python",
   "name": "python3"
  },
  "language_info": {
   "codemirror_mode": {
    "name": "ipython",
    "version": 3
   },
   "file_extension": ".py",
   "mimetype": "text/x-python",
   "name": "python",
   "nbconvert_exporter": "python",
   "pygments_lexer": "ipython3",
   "version": "3.14.0"
  }
 },
 "nbformat": 4,
 "nbformat_minor": 5
}
