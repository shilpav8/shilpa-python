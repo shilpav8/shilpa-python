{
 "cells": [
  {
   "cell_type": "code",
   "execution_count": null,
   "id": "b0a30f83",
   "metadata": {},
   "outputs": [
    {
     "name": "stdout",
     "output_type": "stream",
     "text": [
      "shilpa\n",
      "SHILPA\n",
      "Shilpa\n"
     ]
    }
   ],
   "source": [
    "# methods\n",
    "x = \"shilpa\"\n",
    "print(x.lower())\n",
    "print(x.upper())\n",
    "print(x.capitalize())\n"
   ]
  },
  {
   "cell_type": "code",
   "execution_count": 24,
   "id": "bafcc18d",
   "metadata": {},
   "outputs": [
    {
     "name": "stdout",
     "output_type": "stream",
     "text": [
      "x is equal 10\n"
     ]
    }
   ],
   "source": [
    "# loops\n",
    "x = int (input(\"enter number : \"))\n",
    "if x >10:\n",
    " print( \"x is greater than 10\")\n",
    "elif x==10:\n",
    " print( \"x is equal 10\")\n",
    "else :\n",
    "  print( \"x is less than 10\")\n",
    "  "
   ]
  },
  {
   "cell_type": "code",
   "execution_count": null,
   "id": "dfcdc140",
   "metadata": {},
   "outputs": [],
   "source": [
    "# functions\n",
    "\"\"\"  creating function as below\n",
    " def name(parameters)         \n",
    "        logic\n",
    " calling function as below\n",
    " name(arguments)\n",
    "\n",
    " Types of parameters\n",
    " default means default value replaces if no argument given\n",
    " positional parameters means arguments count specified and order is needed\n",
    " keyword parameters means arguments count specified but order not needed\n",
    " variable length paramenters means unlimited arguments *args,**kwars used\n",
    "\"\"\""
   ]
  },
  {
   "cell_type": "code",
   "execution_count": 1,
   "id": "e12e1eb6",
   "metadata": {},
   "outputs": [
    {
     "name": "stdout",
     "output_type": "stream",
     "text": [
      "7\n"
     ]
    }
   ],
   "source": [
    "def add(a,b):\n",
    "    print(a+b)\n",
    "\n",
    "add(3,4)"
   ]
  },
  {
   "cell_type": "code",
   "execution_count": 17,
   "id": "a78e3fd4",
   "metadata": {},
   "outputs": [
    {
     "name": "stdout",
     "output_type": "stream",
     "text": [
      "using arguments\n",
      "12\n",
      "4\n",
      "32\n",
      "2.0\n",
      "0\n",
      "using default\n",
      "5\n",
      "-1\n",
      "6\n",
      "0.6666666666666666\n",
      "2\n"
     ]
    }
   ],
   "source": [
    "def func(a =2,b=3):\n",
    "    print(a+b)\n",
    "    print(a-b)\n",
    "    print(a*b)\n",
    "    print(a/b)\n",
    "    print(a%b)\n",
    "\n",
    "\n",
    "print(\"using arguments\") # using arguments\n",
    "func(8,4)\n",
    "print(\"using default\") # using default\n",
    "func() \n"
   ]
  },
  {
   "cell_type": "code",
   "execution_count": 12,
   "id": "f0a9ef04",
   "metadata": {},
   "outputs": [
    {
     "name": "stdout",
     "output_type": "stream",
     "text": [
      " my name is shilpa\n",
      " my course is ML\n",
      "student details are ('shilpa', 43, 'ML', 'female', 231)\n"
     ]
    }
   ],
   "source": [
    "# Function define and call\n",
    "# Class define, initialize , assign to reference \"p1\" and call p1.paramaeter\n",
    "\n",
    "class student: # class name defining\n",
    "  def __init__(self,name,course,age,gender,id): # function or logic initialization\n",
    "   self.name = name\n",
    "   self.course = course\n",
    "   self.age = age\n",
    "   self.gender = gender\n",
    "   self.id = id\n",
    "\n",
    "s1 = student(\"shilpa\",\"ML\",43,\"female\",231) # assigning to reference as s1\n",
    "\n",
    "print (f\" my name is {s1.name}\") #using class-function through assigned s1.parameter like s1.name\n",
    "print (f\" my course is {s1.course}\") #using class-function through assigned s1.parameter like s1.course\n",
    "print (f\"student details are {s1.name, s1.age, s1.course, s1.gender, s1.id}\")\n",
    "\n"
   ]
  },
  {
   "cell_type": "code",
   "execution_count": null,
   "id": "a4358bd1",
   "metadata": {},
   "outputs": [],
   "source": []
  },
  {
   "cell_type": "code",
   "execution_count": 4,
   "id": "e35eeca2",
   "metadata": {},
   "outputs": [
    {
     "name": "stdout",
     "output_type": "stream",
     "text": [
      "0\n",
      "1\n",
      "2\n",
      "3\n",
      "4\n"
     ]
    }
   ],
   "source": [
    "for i in range(10):\n",
    "    if i == 5:\n",
    "        break\n",
    "    print(i)"
   ]
  },
  {
   "cell_type": "code",
   "execution_count": 7,
   "id": "da832e97",
   "metadata": {},
   "outputs": [
    {
     "name": "stdout",
     "output_type": "stream",
     "text": [
      "0\n",
      "1\n",
      "2\n",
      "3\n",
      "4\n",
      "6\n",
      "7\n",
      "8\n",
      "9\n"
     ]
    }
   ],
   "source": [
    "for i in range(10):\n",
    "    if i == 5:\n",
    "        continue\n",
    "    print(i)"
   ]
  },
  {
   "cell_type": "code",
   "execution_count": 12,
   "id": "c68a8e4d",
   "metadata": {},
   "outputs": [
    {
     "name": "stdout",
     "output_type": "stream",
     "text": [
      "0\n",
      "1\n",
      "2\n",
      "3\n",
      "4\n",
      "6\n",
      "7\n",
      "8\n",
      "9\n"
     ]
    }
   ],
   "source": [
    "for i in range(10):\n",
    "    if i == 5:\n",
    "        pass\n",
    "    else:\n",
    "     print(i)\n",
    "\n"
   ]
  },
  {
   "cell_type": "code",
   "execution_count": null,
   "id": "07779fad",
   "metadata": {},
   "outputs": [
    {
     "name": "stdout",
     "output_type": "stream",
     "text": [
      "1\n",
      "2\n",
      "3\n",
      "4\n",
      "Found 5, skipping the rest of this list.\n",
      "6\n",
      "7\n",
      "Found 8, exiting the loop.\n"
     ]
    }
   ],
   "source": [
    "lists = [\n",
    "    [1, 2, 3],\n",
    "    [4, 5, 6],\n",
    "    [7, 8, 9]\n",
    "]\n",
    "\n",
    "for lst in lists:\n",
    "    for item in lst:\n",
    "        if item == 5:\n",
    "            print(\"Found 5, skipping the rest of this list.\")\n",
    "            continue  \n",
    "        if item == 8:\n",
    "            print(\"Found 8, exiting the loop.\")\n",
    "            break  \n",
    "        print(item)\n",
    "    else:\n",
    "        continue  \n",
    "    break  "
   ]
  },
  {
   "cell_type": "code",
   "execution_count": 16,
   "id": "1e91e338",
   "metadata": {},
   "outputs": [
    {
     "name": "stdout",
     "output_type": "stream",
     "text": [
      "67 is a positive odd number.\n"
     ]
    }
   ],
   "source": [
    "number = 67\n",
    "\n",
    "if number > 0:\n",
    "    if number % 2 == 0:\n",
    "        print(f\"{number} is a positive even number.\")\n",
    "    else:\n",
    "        print(f\"{number} is a positive odd number.\")\n",
    "elif number < 0:\n",
    "    if number % 2 == 0:\n",
    "        print(f\"{number} is a negative even number.\")\n",
    "    else:\n",
    "        print(f\"{number} is a negative odd number.\")\n",
    "else:\n",
    "    print(\"The number is zero.\")\n"
   ]
  },
  {
   "cell_type": "code",
   "execution_count": 21,
   "id": "48b1e677",
   "metadata": {},
   "outputs": [
    {
     "name": "stdout",
     "output_type": "stream",
     "text": [
      "s is even\n"
     ]
    }
   ],
   "source": [
    "s = int(input(\"enter the number : \"))\n",
    "\n",
    "if s % 2 == 0:\n",
    "   print(\"s is even\")\n",
    "else:\n",
    "   print(\"s is odd\")\n"
   ]
  },
  {
   "cell_type": "code",
   "execution_count": null,
   "id": "49b07eb5",
   "metadata": {},
   "outputs": [
    {
     "name": "stdout",
     "output_type": "stream",
     "text": [
      "Processing (0, 0)\n",
      "Processing (0, 1)\n",
      "Processing (0, 2)\n",
      "Processing (0, 3)\n",
      "Processing (0, 4)\n",
      "Processing (1, 0)\n",
      "Processing (1, 1)\n",
      "Processing (1, 2)\n",
      "Processing (1, 3)\n",
      "Processing (1, 4)\n",
      "Processing (2, 0)\n",
      "Processing (2, 1)\n",
      "Skipping (2, 2)\n",
      "Processing (2, 3)\n",
      "Processing (2, 4)\n",
      "Processing (3, 0)\n",
      "Processing (3, 1)\n",
      "Processing (3, 2)\n",
      "Breaking at (3, 3)\n"
     ]
    }
   ],
   "source": [
    "for i in range(5):\n",
    "    for j in range(5):\n",
    "        if i == 2 and j == 2:\n",
    "            print(\"Skipping (2, 2)\")\n",
    "            continue  \n",
    "        if i == 3 and j == 3:\n",
    "            print(\"Breaking at (3, 3)\")\n",
    "            break  \n",
    "        print(f\"Processing ({i}, {j})\")\n",
    "    else:\n",
    "        continue  \n",
    "    break  \n"
   ]
  }
 ],
 "metadata": {
  "kernelspec": {
   "display_name": "Python 3",
   "language": "python",
   "name": "python3"
  },
  "language_info": {
   "codemirror_mode": {
    "name": "ipython",
    "version": 3
   },
   "file_extension": ".py",
   "mimetype": "text/x-python",
   "name": "python",
   "nbconvert_exporter": "python",
   "pygments_lexer": "ipython3",
   "version": "3.13.3"
  }
 },
 "nbformat": 4,
 "nbformat_minor": 5
}
