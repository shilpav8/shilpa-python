{
 "cells": [
  {
   "cell_type": "code",
   "execution_count": null,
   "id": "b0a30f83",
   "metadata": {},
   "outputs": [
    {
     "name": "stdout",
     "output_type": "stream",
     "text": [
      "shilpa\n",
      "SHILPA\n",
      "Shilpa\n"
     ]
    }
   ],
   "source": [
    "# methods\n",
    "x = \"shilpa\"\n",
    "print(x.lower())\n",
    "print(x.upper())\n",
    "print(x.capitalize())\n"
   ]
  },
  {
   "cell_type": "code",
   "execution_count": 24,
   "id": "bafcc18d",
   "metadata": {},
   "outputs": [
    {
     "name": "stdout",
     "output_type": "stream",
     "text": [
      "x is equal 10\n"
     ]
    }
   ],
   "source": [
    "# loops\n",
    "x = int (input(\"enter number : \"))\n",
    "if x >10:\n",
    " print( \"x is greater than 10\")\n",
    "elif x==10:\n",
    " print( \"x is equal 10\")\n",
    "else :\n",
    "  print( \"x is less than 10\")\n",
    "  "
   ]
  },
  {
   "cell_type": "code",
   "execution_count": null,
   "id": "dfcdc140",
   "metadata": {},
   "outputs": [],
   "source": [
    "# functions\n",
    "\"\"\"  creating function as below\n",
    " def name(parameters)         \n",
    "        logic\n",
    " calling function as below\n",
    " name(arguments)\n",
    "\n",
    " Types of parameters\n",
    " default means default value replaces if no argument given\n",
    " positional parameters means arguments count specified and order is needed\n",
    " keyword parameters means arguments count specified but order not needed\n",
    " variable length paramenters means unlimited arguments *args,**kwars used\n",
    "\"\"\""
   ]
  },
  {
   "cell_type": "code",
   "execution_count": 1,
   "id": "e12e1eb6",
   "metadata": {},
   "outputs": [
    {
     "name": "stdout",
     "output_type": "stream",
     "text": [
      "7\n"
     ]
    }
   ],
   "source": [
    "def add(a,b):\n",
    "    print(a+b)\n",
    "\n",
    "add(3,4)"
   ]
  },
  {
   "cell_type": "code",
   "execution_count": 17,
   "id": "a78e3fd4",
   "metadata": {},
   "outputs": [
    {
     "name": "stdout",
     "output_type": "stream",
     "text": [
      "using arguments\n",
      "12\n",
      "4\n",
      "32\n",
      "2.0\n",
      "0\n",
      "using default\n",
      "5\n",
      "-1\n",
      "6\n",
      "0.6666666666666666\n",
      "2\n"
     ]
    }
   ],
   "source": [
    "def func(a =2,b=3):\n",
    "    print(a+b)\n",
    "    print(a-b)\n",
    "    print(a*b)\n",
    "    print(a/b)\n",
    "    print(a%b)\n",
    "\n",
    "\n",
    "print(\"using arguments\") # using arguments\n",
    "func(8,4)\n",
    "print(\"using default\") # using default\n",
    "func() \n"
   ]
  }
 ],
 "metadata": {
  "kernelspec": {
   "display_name": "Python 3",
   "language": "python",
   "name": "python3"
  },
  "language_info": {
   "codemirror_mode": {
    "name": "ipython",
    "version": 3
   },
   "file_extension": ".py",
   "mimetype": "text/x-python",
   "name": "python",
   "nbconvert_exporter": "python",
   "pygments_lexer": "ipython3",
   "version": "3.13.3"
  }
 },
 "nbformat": 4,
 "nbformat_minor": 5
}
